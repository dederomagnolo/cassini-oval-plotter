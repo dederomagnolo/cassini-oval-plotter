{
 "cells": [
  {
   "cell_type": "code",
   "execution_count": 21,
   "metadata": {},
   "outputs": [],
   "source": [
    "import numpy as np\n",
    "import matplotlib.pyplot as plt\n",
    "import scipy\n",
    "from sympy import *\n",
    "from scipy import special, optimize\n",
    "\n",
    "#variáveis simbólicas\n",
    "y = Symbol('y')\n",
    "x = Symbol('x')"
   ]
  },
  {
   "cell_type": "code",
   "execution_count": null,
   "metadata": {},
   "outputs": [],
   "source": [
    "#expressão da Oval de Cassini modificada\n",
    "def ovalCassini(x,y):\n",
    "    #parâmetros da oval de Cassini\n",
    "    a = 0.50\n",
    "    b = 0.60\n",
    "    return ((x ** 2) + (y ** 2) - 0.30*y) ** 2 - 2*(a ** 2)*(x**2 - y**2 + 0.10*x) + a**4 - b**4"
   ]
  },
  {
   "cell_type": "code",
   "execution_count": 23,
   "metadata": {},
   "outputs": [],
   "source": [
    "def secante(f,x0,x1,N,tol):\n",
    "    \n",
    "    j = 1 #valor inicial que será incrementado até N\n",
    "    while j<=N:\n",
    "        \n",
    "        r = x1 - ((x1-x0)*f(x1))/(f(x1)-f(x0))  \n",
    "        \n",
    "        if abs(r-x1)<tol:\n",
    "            return r\n",
    "            #contr = contr + 1\n",
    "            \n",
    "        j = j + 1\n",
    "        x0 = x1    # redefinir x0\n",
    "        x1 = r     #redefinir x1\n",
    "    "
   ]
  },
  {
   "cell_type": "code",
   "execution_count": 24,
   "metadata": {},
   "outputs": [],
   "source": [
    "#PARTE I - PLOTAR A FUNÇAO QUE DESCREVE A CURVA\n",
    "\n",
    "#Declaração de variáveis \n",
    "i = -0.40 #valor inicial \n",
    "step = 0.01 #incremento do intervalo\n",
    "tabelax = [] #lista para salvar cada x percorrido conforme o step definido\n",
    "tabelay = [] #lista para salvar os resultados de y para cada x do intervalo - valores positivos\n",
    "tabelany = [] #lista para salvar os resultados de y para cada x do intervalo - valores negativos\n",
    "equations = [] #lista de equações geradas para cada ponto x \n",
    "\n",
    "#Parâmetros - Método da Secante\n",
    "tol = 0.001 #tolerância do Erro\n",
    "N = 9 #número de iterações"
   ]
  },
  {
   "cell_type": "code",
   "execution_count": 25,
   "metadata": {},
   "outputs": [],
   "source": [
    "'''\n",
    "----------------------------ALGORITMO PARA PLOTAR A CURVA OVAL DE CASSINI MODIFICADA-----------------------------\n",
    "Para plotar a curva, é necessário, primeiramente, encontrar suas raízes no intervalo especificado -0.4 < x < 0.58\n",
    ">O x é incrementado de -0.4 até 0.58 com o step definido\n",
    ">Cada x é aplicado na funçao ovalCassini, que retorna uma expressão que depende somente de y\n",
    ">Cada expressão obtida é resolvida pelo método da Secante para encontrar suas raízes\n",
    ">Todos os valores de x e y encontrados são gravados nas listas tabelax e tabelay\n",
    "Obs: Existe um adicional para calcular as raízes negativas das expressões de y (armazenadas na lista tabelany)\n",
    "-----------------------------------------------------------------------------------------------------------------\n",
    "'''\n",
    "while i <= 0.58:\n",
    "    \n",
    "    f = lambda y: ovalCassini(i,y) #equação resultante para x, depende só de y\n",
    "    equations.append(f(y)) #salva equaçoes numa lista\n",
    "    \n",
    "    #Método da Secante - encontrar raízes positivas\n",
    "    x0 = 0.1\n",
    "    x1 = 1.0\n",
    "    r1 = secante(f,x0,x1,N,tol)\n",
    "    #Método da Secante - encontrar raízes negativas\n",
    "    x0 = -0.1\n",
    "    x1 = -1.0\n",
    "    r2 = secante(f,x0,x1,N,tol)\n",
    "    \n",
    "    tabelay.append(r1) #salva o valor da raiz positiva na lista de y\n",
    "    tabelax.append(i) #salva o valor de x na lista de intervalo de x\n",
    "    tabelany.append(r2) #salva o valor da raiz negativa na lista de y\n",
    "\n",
    "    i = i + step #incrementa o contador do laço\n",
    "    "
   ]
  },
  {
   "cell_type": "code",
   "execution_count": 26,
   "metadata": {},
   "outputs": [],
   "source": [
    "#Item 1: Grafico da função \n",
    "%matplotlib qt  \n",
    "#PLOT 1 - Raízes positivas\n",
    "plt.figure(1) \n",
    "plt.plot(tabelax, tabelay)\n",
    "plt.title('Oval de Cassini Modificada no intervalo (somente raízes positivas)')\n",
    "fig = plt.figure(1)\n",
    "fig.canvas.set_window_title('Oval de Cassini Modificada')\n",
    "#PLOT 2 - Raízes negativas\n",
    "plt.figure(2) \n",
    "plt.plot(tabelax, tabelany, tabelax, tabelay)\n",
    "plt.title('Oval de Cassini Modificada no intervalo (raízes positivas e negativas)')\n",
    "fig2 = plt.figure(2)\n",
    "fig2.canvas.set_window_title('Oval de Cassini Modificada')"
   ]
  },
  {
   "cell_type": "code",
   "execution_count": 27,
   "metadata": {},
   "outputs": [
    {
     "name": "stdout",
     "output_type": "stream",
     "text": [
      "Valor de f(x) no intervalo [-0.4,0.58] e no ponto médio 0.49\n",
      ">Extremo inferior do intervalo: 0.41157390080548945\n",
      ">Extremo superior do intervalo: 0.4530480374049067\n",
      ">Ponto médio do intervalo: 0.4686324136504982\n"
     ]
    }
   ],
   "source": [
    "#Item 2: Valor de f(x) no intervalo [-0.4,0.58] e no ponto médio\n",
    "xi = -0.4 #extremo inferior do intervalo\n",
    "xf = 0.58 #extremo superior do intervalo\n",
    "xm = (xf - xi)/2 #ponto médio do intervalo\n",
    "\n",
    "print(\"Valor de f(x) no intervalo [-0.4,0.58] e no ponto médio\" , xm)\n",
    "print(\">Extremo inferior do intervalo:\" , tabelay[0])\n",
    "print(\">Extremo superior do intervalo:\" , tabelay[97])\n",
    "print(\">Ponto médio do intervalo:\" , tabelay[89])"
   ]
  },
  {
   "cell_type": "code",
   "execution_count": 28,
   "metadata": {},
   "outputs": [],
   "source": [
    "#PARTE II - ENCONTRAR DERIVADA DA FUNÇÃO ENCONTRADA\n",
    "\n",
    "#Declaração de funções para o cálculo das derivadas\n",
    "\n",
    "#Fórmula 3 pontos progressiva\n",
    "# f1 = f(x) , f2 = f(x+h) , f3 = f(x+2h) , f4 = f(x-h) , f5 = f(x-2h)\n",
    "def progressiva(f1,f2,f3,h):\n",
    "    return (-3*f1 + 4*f2 - f3)/(2*h)\n",
    "\n",
    "#Fórmula de 3 pontos centrada \n",
    "def centrada(f2,f4,h):\n",
    "    return (f2 - f4)/(2*h)\n",
    "\n",
    "#Fórmula de 3 pontos regressiva\n",
    "def regressiva(f1,f4,f5,h):\n",
    "    return (-3*f1 + 4*f4 - f5)/(-2*h)"
   ]
  },
  {
   "cell_type": "code",
   "execution_count": 29,
   "metadata": {},
   "outputs": [
    {
     "name": "stdout",
     "output_type": "stream",
     "text": [
      "Derivada no extremo inferior: 0.005312241583455002\n",
      "Derivada no ponto médio: 0.2961085322701895\n",
      "Derivada no extremo superior: -0.2992423708336356\n"
     ]
    }
   ],
   "source": [
    "#Encontrar as derivadas nos pontos do intervalo: 1) extremo inferior 2) extremo superior 3) pontos do meio do intervalo\n",
    "n = 97\n",
    "h = 0.01 #step para percorrer o intervalo\n",
    "tabelaDerivada = [] #lista para armazenar os valores encontrados\n",
    "\n",
    "#1)Derivada no Extremo inferior\n",
    "f1 = tabelay[0]\n",
    "f2 = tabelay[1]\n",
    "f3 = tabelay[3]\n",
    "tabelaDerivada.append(progressiva(f1,f2,f3,h))\n",
    "\n",
    "#2)Derivada nos pontos do meio do intervalo\n",
    "for i in range (1,n): \n",
    "    f2 = tabelay[i+1]\n",
    "    f4 = tabelay[i-1]\n",
    "    tabelaDerivada.append(centrada(f2,f4,h))\n",
    "    \n",
    "#2)Derivada no Extremo Superior\n",
    "f1 = tabelay[97]\n",
    "f4 = tabelay[96] \n",
    "f5 = tabelay[95]\n",
    "tabelaDerivada.append(regressiva(f1,f4,f5,h))\n",
    "\n",
    "print(\"Derivada no extremo inferior:\" , tabelaDerivada[0])\n",
    "print(\"Derivada no ponto médio:\" , tabelaDerivada[49]) #posiçao 49 = f(xm)\n",
    "print(\"Derivada no extremo superior:\" , tabelaDerivada[97])"
   ]
  },
  {
   "cell_type": "code",
   "execution_count": 30,
   "metadata": {},
   "outputs": [
    {
     "name": "stdout",
     "output_type": "stream",
     "text": [
      "Comprimento da curva Oval de Cassini Modificada: 0.9904522618595221\n"
     ]
    }
   ],
   "source": [
    "#PARTE 3 - COMPRIMENTO DA CURVA\n",
    "\n",
    "#Regra de Simpson para cálculo da integral\n",
    "tabelaIntegral = []\n",
    "soma = 0\n",
    "n = 97;\n",
    "\n",
    "for i in range (1,n):\n",
    "    soma = soma + (1+(tabelaDerivada[i]) ** 2) ** (1/2)\n",
    "\n",
    "integral = h*(((1 + (tabelaDerivada[0]) ** 2) ** (1/2))/2 + ((1 + (tabelaDerivada[96]) ** 2) ** (1/2))/2 + soma)\n",
    "\n",
    "print(\"Comprimento da curva Oval de Cassini Modificada:\", integral)"
   ]
  },
  {
   "cell_type": "code",
   "execution_count": null,
   "metadata": {},
   "outputs": [],
   "source": []
  }
 ],
 "metadata": {
  "kernelspec": {
   "display_name": "Python 3",
   "language": "python",
   "name": "python3"
  },
  "language_info": {
   "codemirror_mode": {
    "name": "ipython",
    "version": 3
   },
   "file_extension": ".py",
   "mimetype": "text/x-python",
   "name": "python",
   "nbconvert_exporter": "python",
   "pygments_lexer": "ipython3",
   "version": "3.7.0"
  }
 },
 "nbformat": 4,
 "nbformat_minor": 2
}
